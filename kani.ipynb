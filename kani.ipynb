{
 "cells": [
  {
   "cell_type": "code",
   "execution_count": 1,
   "id": "4981eaea-98ce-43e0-b328-fb8a539554a5",
   "metadata": {},
   "outputs": [
    {
     "name": "stdout",
     "output_type": "stream",
     "text": [
      "[1, 2, 3, 4]\n"
     ]
    }
   ],
   "source": [
    "def remove_duplicates(list):\n",
    "    result=[]\n",
    "    for i in list:\n",
    "        if i not in result:\n",
    "            result.append(i)\n",
    "    return result\n",
    "my_list=[1,2,3,4,3,2,1]       \n",
    "print(remove_duplicates(my_list))"
   ]
  },
  {
   "cell_type": "code",
   "execution_count": null,
   "id": "db7d625f-c224-455c-a9d7-a48812fb2839",
   "metadata": {},
   "outputs": [],
   "source": []
  }
 ],
 "metadata": {
  "kernelspec": {
   "display_name": "Python 3 (ipykernel)",
   "language": "python",
   "name": "python3"
  },
  "language_info": {
   "codemirror_mode": {
    "name": "ipython",
    "version": 3
   },
   "file_extension": ".py",
   "mimetype": "text/x-python",
   "name": "python",
   "nbconvert_exporter": "python",
   "pygments_lexer": "ipython3",
   "version": "3.9.19"
  }
 },
 "nbformat": 4,
 "nbformat_minor": 5
}
